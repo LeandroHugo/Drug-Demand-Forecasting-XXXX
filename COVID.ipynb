{
 "cells": [
  {
   "attachments": {},
   "cell_type": "markdown",
   "metadata": {},
   "source": [
    "# COVID-19 Dataset: This dataset contains information about the number of COVID-19 cases in different countries over time. You could use this data to predict the number of cases in the future.\""
   ]
  },
  {
   "cell_type": "code",
   "execution_count": 1,
   "metadata": {},
   "outputs": [
    {
     "name": "stdout",
     "output_type": "stream",
     "text": [
      "Intel MKL WARNING: Support of Intel(R) Streaming SIMD Extensions 4.2 (Intel(R) SSE4.2) enabled only processors has been deprecated. Intel oneAPI Math Kernel Library 2025.0 will require Intel(R) Advanced Vector Extensions (Intel(R) AVX) instructions.\n",
      "Intel MKL WARNING: Support of Intel(R) Streaming SIMD Extensions 4.2 (Intel(R) SSE4.2) enabled only processors has been deprecated. Intel oneAPI Math Kernel Library 2025.0 will require Intel(R) Advanced Vector Extensions (Intel(R) AVX) instructions.\n",
      "  Country/Region  Confirmed  Deaths  Recovered  Active  New cases  New deaths  \\\n",
      "0    Afghanistan      36263    1269      25198    9796        106          10   \n",
      "1        Albania       4880     144       2745    1991        117           6   \n",
      "2        Algeria      27973    1163      18837    7973        616           8   \n",
      "3        Andorra        907      52        803      52         10           0   \n",
      "4         Angola        950      41        242     667         18           1   \n",
      "\n",
      "   New recovered  Deaths / 100 Cases  Recovered / 100 Cases  \\\n",
      "0             18                3.50                  69.49   \n",
      "1             63                2.95                  56.25   \n",
      "2            749                4.16                  67.34   \n",
      "3              0                5.73                  88.53   \n",
      "4              0                4.32                  25.47   \n",
      "\n",
      "   Deaths / 100 Recovered  Confirmed last week  1 week change  \\\n",
      "0                    5.04                35526            737   \n",
      "1                    5.25                 4171            709   \n",
      "2                    6.17                23691           4282   \n",
      "3                    6.48                  884             23   \n",
      "4                   16.94                  749            201   \n",
      "\n",
      "   1 week % increase             WHO Region  \n",
      "0               2.07  Eastern Mediterranean  \n",
      "1              17.00                 Europe  \n",
      "2              18.07                 Africa  \n",
      "3               2.60                 Europe  \n",
      "4              26.84                 Africa  \n",
      "  Province/State Country/Region       Lat       Long        Date  Confirmed  \\\n",
      "0            NaN    Afghanistan  33.93911  67.709953  2020-01-22          0   \n",
      "1            NaN        Albania  41.15330  20.168300  2020-01-22          0   \n",
      "2            NaN        Algeria  28.03390   1.659600  2020-01-22          0   \n",
      "3            NaN        Andorra  42.50630   1.521800  2020-01-22          0   \n",
      "4            NaN         Angola -11.20270  17.873900  2020-01-22          0   \n",
      "\n",
      "   Deaths  Recovered  Active             WHO Region  \n",
      "0       0          0       0  Eastern Mediterranean  \n",
      "1       0          0       0                 Europe  \n",
      "2       0          0       0                 Africa  \n",
      "3       0          0       0                 Europe  \n",
      "4       0          0       0                 Africa  \n",
      "         Date  Confirmed  Deaths  Recovered  Active  New cases  New deaths  \\\n",
      "0  2020-01-22        555      17         28     510          0           0   \n",
      "1  2020-01-23        654      18         30     606         99           1   \n",
      "2  2020-01-24        941      26         36     879        287           8   \n",
      "3  2020-01-25       1434      42         39    1353        493          16   \n",
      "4  2020-01-26       2118      56         52    2010        684          14   \n",
      "\n",
      "   New recovered  Deaths / 100 Cases  Recovered / 100 Cases  \\\n",
      "0              0                3.06                   5.05   \n",
      "1              2                2.75                   4.59   \n",
      "2              6                2.76                   3.83   \n",
      "3              3                2.93                   2.72   \n",
      "4             13                2.64                   2.46   \n",
      "\n",
      "   Deaths / 100 Recovered  No. of countries  \n",
      "0                   60.71                 6  \n",
      "1                   60.00                 8  \n",
      "2                   72.22                 9  \n",
      "3                  107.69                11  \n",
      "4                  107.69                13  \n",
      "         Date Country/Region  Confirmed  Deaths  Recovered  Active  New cases  \\\n",
      "0  2020-01-22    Afghanistan          0       0          0       0          0   \n",
      "1  2020-01-22        Albania          0       0          0       0          0   \n",
      "2  2020-01-22        Algeria          0       0          0       0          0   \n",
      "3  2020-01-22        Andorra          0       0          0       0          0   \n",
      "4  2020-01-22         Angola          0       0          0       0          0   \n",
      "\n",
      "   New deaths  New recovered             WHO Region  \n",
      "0           0              0  Eastern Mediterranean  \n",
      "1           0              0                 Europe  \n",
      "2           0              0                 Africa  \n",
      "3           0              0                 Europe  \n",
      "4           0              0                 Africa  \n",
      "        UID iso2 iso3  code3     FIPS    Admin2            Province_State  \\\n",
      "0        16   AS  ASM     16     60.0       NaN            American Samoa   \n",
      "1       316   GU  GUM    316     66.0       NaN                      Guam   \n",
      "2       580   MP  MNP    580     69.0       NaN  Northern Mariana Islands   \n",
      "3  63072001   PR  PRI    630  72001.0  Adjuntas               Puerto Rico   \n",
      "4  63072003   PR  PRI    630  72003.0    Aguada               Puerto Rico   \n",
      "\n",
      "  Country_Region        Lat       Long_                  Combined_Key  \\\n",
      "0             US -14.271000 -170.132000            American Samoa, US   \n",
      "1             US  13.444300  144.793700                      Guam, US   \n",
      "2             US  15.097900  145.673900  Northern Mariana Islands, US   \n",
      "3             US  18.180117  -66.754367     Adjuntas, Puerto Rico, US   \n",
      "4             US  18.360255  -67.175131       Aguada, Puerto Rico, US   \n",
      "\n",
      "      Date  Confirmed  Deaths  \n",
      "0  1/22/20          0       0  \n",
      "1  1/22/20          0       0  \n",
      "2  1/22/20          0       0  \n",
      "3  1/22/20          0       0  \n",
      "4  1/22/20          0       0  \n",
      "  Country/Region      Continent    Population  TotalCases  NewCases  \\\n",
      "0            USA  North America  3.311981e+08     5032179       NaN   \n",
      "1         Brazil  South America  2.127107e+08     2917562       NaN   \n",
      "2          India           Asia  1.381345e+09     2025409       NaN   \n",
      "3         Russia         Europe  1.459409e+08      871894       NaN   \n",
      "4   South Africa         Africa  5.938157e+07      538184       NaN   \n",
      "\n",
      "   TotalDeaths  NewDeaths  TotalRecovered  NewRecovered  ActiveCases  \\\n",
      "0     162804.0        NaN       2576668.0           NaN    2292707.0   \n",
      "1      98644.0        NaN       2047660.0           NaN     771258.0   \n",
      "2      41638.0        NaN       1377384.0           NaN     606387.0   \n",
      "3      14606.0        NaN        676357.0           NaN     180931.0   \n",
      "4       9604.0        NaN        387316.0           NaN     141264.0   \n",
      "\n",
      "   Serious,Critical  Tot Cases/1M pop  Deaths/1M pop  TotalTests  \\\n",
      "0           18296.0           15194.0          492.0  63139605.0   \n",
      "1            8318.0           13716.0          464.0  13206188.0   \n",
      "2            8944.0            1466.0           30.0  22149351.0   \n",
      "3            2300.0            5974.0          100.0  29716907.0   \n",
      "4             539.0            9063.0          162.0   3149807.0   \n",
      "\n",
      "   Tests/1M pop      WHO Region  \n",
      "0      190640.0        Americas  \n",
      "1       62085.0        Americas  \n",
      "2       16035.0  South-EastAsia  \n",
      "3      203623.0          Europe  \n",
      "4       53044.0          Africa  \n"
     ]
    }
   ],
   "source": [
    "import pandas as pd\n",
    "\n",
    "# Load the datasets\n",
    "data_country_wise = pd.read_csv('Resources/country_wise_latest.csv')\n",
    "data_covid_19_clean = pd.read_csv('Resources/covid_19_clean_complete.csv')\n",
    "data_day_wise = pd.read_csv('Resources/day_wise.csv')\n",
    "data_full_grouped = pd.read_csv('Resources/full_grouped.csv')\n",
    "data_usa_county_wise = pd.read_csv('Resources/usa_county_wise.csv')\n",
    "data_worldometer = pd.read_csv('Resources/worldometer_data.csv')\n",
    "\n",
    "# Display the first few rows of the data\n",
    "print(data_country_wise.head())\n",
    "print(data_covid_19_clean.head())\n",
    "print(data_day_wise.head())\n",
    "print(data_full_grouped.head())\n",
    "print(data_usa_county_wise.head())\n",
    "print(data_worldometer.head())\n"
   ]
  },
  {
   "attachments": {},
   "cell_type": "markdown",
   "metadata": {},
   "source": [
    "# Let's proceed with the data preprocessing step. This could involve cleaning the data, handling missing values, and aggregating the data by country and date.\n",
    "- This code converts the 'Date' column to datetime format, fills any missing values with 0, and aggregates the data by country and date. The groupby method groups the data by the specified columns, and the sum method calculates the sum of the remaining columns for each group. \n"
   ]
  },
  {
   "cell_type": "code",
   "execution_count": 2,
   "metadata": {},
   "outputs": [
    {
     "name": "stderr",
     "output_type": "stream",
     "text": [
      "/var/folders/0q/2y70gylj1sj8j0697rn106q00000gn/T/ipykernel_86701/4011488633.py:8: FutureWarning: The default value of numeric_only in DataFrameGroupBy.sum is deprecated. In a future version, numeric_only will default to False. Either specify numeric_only or select only columns which should be valid for the function.\n",
      "  data_covid_19_clean = data_covid_19_clean.groupby(['Country/Region', 'Date']).sum().reset_index()\n"
     ]
    }
   ],
   "source": [
    "# Convert the 'Date' column to datetime format\n",
    "data_covid_19_clean['Date'] = pd.to_datetime(data_covid_19_clean['Date'])\n",
    "\n",
    "# Fill any missing values\n",
    "data_covid_19_clean.fillna(0, inplace=True)\n",
    "\n",
    "# Aggregate the data by country and date\n",
    "data_covid_19_clean = data_covid_19_clean.groupby(['Country/Region', 'Date']).sum().reset_index()\n"
   ]
  },
  {
   "attachments": {},
   "cell_type": "markdown",
   "metadata": {},
   "source": [
    "# Exploratory data analysis. Here's how you can create a plot of the number of COVID-19 cases over time in the US.\n",
    "- This code filters the data for the US, creates a plot of the number of confirmed cases over time, and adds a title and labels to the plot."
   ]
  },
  {
   "cell_type": "code",
   "execution_count": 3,
   "metadata": {},
   "outputs": [
    {
     "data": {
      "image/png": "[encoded data removed]",
      "text/plain": [
       "<Figure size 1000x600 with 1 Axes>"
      ]
     },
     "metadata": {},
     "output_type": "display_data"
    }
   ],
   "source": [
    "import matplotlib.pyplot as plt\n",
    "\n",
    "# Filter the data for the US\n",
    "data_covid_19_clean_US = data_covid_19_clean[data_covid_19_clean['Country/Region'] == 'US']\n",
    "\n",
    "# Create a plot\n",
    "plt.figure(figsize=(10, 6))\n",
    "plt.plot(data_covid_19_clean_US['Date'], data_covid_19_clean_US['Confirmed'])\n",
    "\n",
    "# Add a title and labels\n",
    "plt.title('COVID-19 Cases Over Time in the US')\n",
    "plt.xlabel('Date')\n",
    "plt.ylabel('Number of Cases')\n",
    "\n",
    "# Display the plot\n",
    "plt.show()\n"
   ]
  },
  {
   "attachments": {},
   "cell_type": "markdown",
   "metadata": {},
   "source": [
    "# We'll use the sklearn library's train_test_split function to split our data into a training set and a test set.\n",
    "  - This code separates the features (the date features) and the targets (the sales data for each drug), and then splits each set of features and targets into a training set (80% of the data) and a test set (20% of the data)."
   ]
  },
  {
   "cell_type": "code",
   "execution_count": null,
   "metadata": {},
   "outputs": [],
   "source": [
    "# Separate the features and the target\n",
    "X = data.drop(['drug_A_sales', 'drug_B_sales', 'drug_C_sales'], axis=1)\n",
    "y_A = data['drug_A_sales']\n",
    "y_B = data['drug_B_sales']\n",
    "y_C = data['drug_C_sales']\n",
    "\n",
    "# Split the data into a training set and a test set for each drug\n",
    "X_train_A, X_test_A, y_train_A, y_test_A = train_test_split(X, y_A, test_size=0.2, random_state=0)\n",
    "X_train_B, X_test_B, y_train_B, y_test_B = train_test_split(X, y_B, test_size=0.2, random_state=0)\n",
    "X_train_C, X_test_C, y_train_C, y_test_C = train_test_split(X, y_C, test_size=0.2, random_state=0)\n"
   ]
  },
  {
   "attachments": {},
   "cell_type": "markdown",
   "metadata": {},
   "source": [
    "# We'll use the RandomForestRegressor model from the sklearn library.\n",
    " - This code creates a Random Forest Regressor for each drug and trains it on the corresponding training data. The n_estimators parameter specifies the number of trees in the forest, and the random_state parameter is used for reproducibility."
   ]
  },
  {
   "cell_type": "code",
   "execution_count": null,
   "metadata": {},
   "outputs": [],
   "source": [
    "# Create a Random Forest Regressor for each drug\n",
    "model_A = RandomForestRegressor(n_estimators=100, random_state=0)\n",
    "model_B = RandomForestRegressor(n_estimators=100, random_state=0)\n",
    "model_C = RandomForestRegressor(n_estimators=100, random_state=0)\n",
    "\n",
    "# Train the models\n",
    "model_A.fit(X_train_A, y_train_A)\n",
    "model_B.fit(X_train_B, y_train_B)\n",
    "model_C.fit(X_train_C, y_train_C)\n"
   ]
  },
  {
   "attachments": {},
   "cell_type": "markdown",
   "metadata": {},
   "source": [
    "# Model Evaluation. We'll use the mean absolute error (MAE) metric from the sklearn library to evaluate the performance of our models.\n",
    "- This code makes predictions on the test data using our trained models and calculates the mean absolute error of these predictions. The mean absolute error is the average of the absolute differences between the predicted and actual values. It gives us an idea of how well our models are performing."
   ]
  },
  {
   "cell_type": "code",
   "execution_count": null,
   "metadata": {},
   "outputs": [],
   "source": [
    "# Make predictions on the test data\n",
    "predictions_A = model_A.predict(X_test_A)\n",
    "predictions_B = model_B.predict(X_test_B)\n",
    "predictions_C = model_C.predict(X_test_C)\n",
    "\n",
    "# Calculate the mean absolute error of the predictions\n",
    "mae_A = mean_absolute_error(y_test_A, predictions_A)\n",
    "mae_B = mean_absolute_error(y_test_B, predictions_B)\n",
    "mae_C = mean_absolute_error(y_test_C, predictions_C)\n",
    "\n",
    "print(f'Mean Absolute Error for Drug A: {mae_A:.2f}')\n",
    "print(f'Mean Absolute Error for Drug B: {mae_B:.2f}')\n",
    "print(f'Mean Absolute Error for Drug C: {mae_C:.2f}')\n"
   ]
  },
  {
   "attachments": {},
   "cell_type": "markdown",
   "metadata": {},
   "source": [
    "# We can use the Mean Absolute Percentage Error (MAPE) as a metric for evaluation. MAPE expresses the absolute difference between the actual and predicted values as a percentage, which can be more intuitive to understand.\n",
    "- However, please note that sklearn doesn't provide a built-in function for MAPE, but we can easily define it ourselves. This code calculates the MAPE for each drug and prints the results. The MAPE gives us an idea of the average error of our models as a percentage of the actual values."
   ]
  },
  {
   "cell_type": "code",
   "execution_count": null,
   "metadata": {},
   "outputs": [],
   "source": [
    "def mean_absolute_percentage_error(y_true, y_pred): \n",
    "    y_true, y_pred = np.array(y_true), np.array(y_pred)\n",
    "    return np.mean(np.abs((y_true - y_pred) / y_true)) * 100\n",
    "\n",
    "# Calculate the MAPE of the predictions\n",
    "mape_A = mean_absolute_percentage_error(y_test_A, predictions_A)\n",
    "mape_B = mean_absolute_percentage_error(y_test_B, predictions_B)\n",
    "mape_C = mean_absolute_percentage_error(y_test_C, predictions_C)\n",
    "\n",
    "print(f'Mean Absolute Percentage Error for Drug A: {mape_A:.2f}%')\n",
    "print(f'Mean Absolute Percentage Error for Drug B: {mape_B:.2f}%')\n",
    "print(f'Mean Absolute Percentage Error for Drug C: {mape_C:.2f}%')\n"
   ]
  },
  {
   "cell_type": "code",
   "execution_count": null,
   "metadata": {},
   "outputs": [],
   "source": [
    "# Define the parameter grid\n",
    "param_grid = {\n",
    "    'n_estimators': [50, 100, 200],\n",
    "    'max_depth': [None, 10, 20, 30],\n",
    "    'min_samples_split': [2, 5, 10]\n",
    "}\n",
    "\n",
    "# Create a GridSearchCV object\n",
    "grid_search_A = GridSearchCV(model_A, param_grid, cv=5, scoring='neg_mean_absolute_error')\n",
    "grid_search_B = GridSearchCV(model_B, param_grid, cv=5, scoring='neg_mean_absolute_error')\n",
    "grid_search_C = GridSearchCV(model_C, param_grid, cv=5, scoring='neg_mean_absolute_error')\n",
    "\n",
    "# Perform a grid search\n",
    "grid_search_A.fit(X_train_A, y_train_A)\n",
    "grid_search_B.fit(X_train_B, y_train_B)\n",
    "grid_search_C.fit(X_train_C, y_train_C)\n",
    "\n",
    "# Print the best parameters\n",
    "print(f'Best parameters for Drug A: {grid_search_A.best_params_}')\n",
    "print(f'Best parameters for Drug B: {grid_search_B.best_params_}')\n",
    "print(f'Best parameters for Drug C: {grid_search_C.best_params_}')\n"
   ]
  },
  {
   "cell_type": "code",
   "execution_count": null,
   "metadata": {},
   "outputs": [],
   "source": [
    "# Get the best models from the grid search\n",
    "best_model_A = grid_search_A.best_estimator_\n",
    "best_model_B = grid_search_B.best_estimator_\n",
    "best_model_C = grid_search_C.best_estimator_\n",
    "\n",
    "# Make predictions on the test data\n",
    "predictions_A = best_model_A.predict(X_test_A)\n",
    "predictions_B = best_model_B.predict(X_test_B)\n",
    "predictions_C = best_model_C.predict(X_test_C)\n",
    "\n",
    "# Calculate the MAPE of the predictions\n",
    "mape_A = mean_absolute_percentage_error(y_test_A, predictions_A)\n",
    "mape_B = mean_absolute_percentage_error(y_test_B, predictions_B)\n",
    "mape_C = mean_absolute_percentage_error(y_test_C, predictions_C)\n",
    "\n",
    "print(f'Mean Absolute Percentage Error for Drug A: {mape_A:.2f}%')\n",
    "print(f'Mean Absolute Percentage Error for Drug B: {mape_B:.2f}%')\n",
    "print(f'Mean Absolute Percentage Error for Drug C: {mape_C:.2f}%')\n"
   ]
  },
  {
   "attachments": {},
   "cell_type": "markdown",
   "metadata": {},
   "source": [
    "# Model Deployment. \n",
    "- Create a function that takes in the features of a new data point and returns the predicted sales for each drug.\n",
    "  - This function creates a DataFrame from the input features, makes predictions using our trained models, and returns the predicted sales for each drug."
   ]
  },
  {
   "cell_type": "code",
   "execution_count": null,
   "metadata": {},
   "outputs": [],
   "source": [
    "def predict_drug_sales(day_of_week, month, day_of_month, day_of_year):\n",
    "    # Create a DataFrame from the input features\n",
    "    features = pd.DataFrame({\n",
    "        'day_of_week': [day_of_week],\n",
    "        'month': [month],\n",
    "        'day_of_month': [day_of_month],\n",
    "        'day_of_year': [day_of_year]\n",
    "    })\n",
    "\n",
    "    # Make predictions\n",
    "    predictions_A = best_model_A.predict(features)\n",
    "    predictions_B = best_model_B.predict(features)\n",
    "    predictions_C = best_model_C.predict(features)\n",
    "    \n",
    "    # Return the predictions\n",
    "    return predictions_A[0], predictions_B[0], predictions_C[0]\n"
   ]
  },
  {
   "attachments": {},
   "cell_type": "markdown",
   "metadata": {},
   "source": [
    "# You can now use this function to make predictions on new data. For example, to predict the sales for the 7th day of the week, the 5th month, the 15th day of the month, and the 135th day of the year, you would call the function like this:"
   ]
  },
  {
   "cell_type": "code",
   "execution_count": null,
   "metadata": {},
   "outputs": [],
   "source": [
    "predict_drug_sales(7, 5, 15, 135)"
   ]
  },
  {
   "attachments": {},
   "cell_type": "markdown",
   "metadata": {},
   "source": [
    "This concludes the model deployment step. "
   ]
  }
 ],
 "metadata": {
  "kernelspec": {
   "display_name": "venv",
   "language": "python",
   "name": "python3"
  },
  "language_info": {
   "codemirror_mode": {
    "name": "ipython",
    "version": 3
   },
   "file_extension": ".py",
   "mimetype": "text/x-python",
   "name": "python",
   "nbconvert_exporter": "python",
   "pygments_lexer": "ipython3",
   "version": "3.11.3"
  },
  "orig_nbformat": 4
 },
 "nbformat": 4,
 "nbformat_minor": 2
}
